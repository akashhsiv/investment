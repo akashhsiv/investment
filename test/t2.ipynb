{
 "cells": [
  {
   "cell_type": "code",
   "execution_count": 17,
   "metadata": {},
   "outputs": [],
   "source": [
    "import pandas as pd\n",
    "import yfinance as yf\n",
    "import pandas_ta as ta"
   ]
  },
  {
   "cell_type": "code",
   "execution_count": 18,
   "metadata": {},
   "outputs": [],
   "source": [
    "# Sample Inputs\n",
    "total_investment = 10000  # Total investment amount\n",
    "start_date = \"2024-05-01\"  # Investment period start date\n",
    "end_date = \"2024-05-30\"  # Investment period end date\n",
    "end_date2 = \"2024-05-28\"  # Investment period end date"
   ]
  },
  {
   "cell_type": "code",
   "execution_count": 19,
   "metadata": {},
   "outputs": [],
   "source": [
    "stocks = [\n",
    "\t{\"Ticker\": \"ADANIPORTS.NS\", \"Weightage\": 35.0000},\n",
    "\t{\"Ticker\": \"APOLLOHOSP.NS\", \"Weightage\": 30.0000},\n",
    "\t{\"Ticker\": \"ASIANPAINT.NS\", \"Weightage\": 35.0000},]\n"
   ]
  },
  {
   "cell_type": "code",
   "execution_count": 20,
   "metadata": {},
   "outputs": [],
   "source": [
    "def calculate_rsi(data, periods=14):\n",
    "\t\"\"\"\n",
    "\tCalculates the Relative Strength Index (RSI) for a given DataFrame.\n",
    "\n",
    "\tArgs:\n",
    "\t\tdata: pandas DataFrame containing the 'Close' price data.\n",
    "\t\tperiods: Number of periods for RSI calculation (default: 14).\n",
    "\n",
    "\tReturns:\n",
    "\t\tpandas Series containing the RSI values.\n",
    "\t\"\"\"\n",
    "\n",
    "\tdelta = data[\"Close\"].diff()\n",
    "\tgain = (delta.where(delta > 0, 0)).fillna(0)\n",
    "\tloss = (delta.where(delta < 0, 0)).fillna(0)\n",
    "\n",
    "\tavg_gain = gain.rolling(window=periods).mean()\n",
    "\tavg_loss = abs(loss.rolling(window=periods).mean())\n",
    "\n",
    "\trs = avg_gain / avg_loss\n",
    "\trsi = 100 - (100 / (1 + rs))\n",
    "\n",
    "\treturn rsi"
   ]
  },
  {
   "cell_type": "code",
   "execution_count": 21,
   "metadata": {},
   "outputs": [
    {
     "name": "stderr",
     "output_type": "stream",
     "text": [
      "[*********************100%***********************]  1 of 1 completed"
     ]
    },
    {
     "name": "stderr",
     "output_type": "stream",
     "text": [
      "\n",
      "[*********************100%***********************]  1 of 1 completed\n",
      "[*********************100%***********************]  1 of 1 completed\n"
     ]
    },
    {
     "ename": "ValueError",
     "evalue": "The truth value of a Series is ambiguous. Use a.empty, a.bool(), a.item(), a.any() or a.all().",
     "output_type": "error",
     "traceback": [
      "\u001b[1;31m---------------------------------------------------------------------------\u001b[0m",
      "\u001b[1;31mValueError\u001b[0m                                Traceback (most recent call last)",
      "\u001b[1;32m~\\AppData\\Local\\Temp\\ipykernel_10088\\3502872022.py\u001b[0m in \u001b[0;36m?\u001b[1;34m()\u001b[0m\n\u001b[0;32m     46\u001b[0m     \u001b[0mrsi\u001b[0m \u001b[1;33m=\u001b[0m \u001b[0mrow\u001b[0m\u001b[1;33m[\u001b[0m\u001b[1;34m\"RSI\"\u001b[0m\u001b[1;33m]\u001b[0m\u001b[1;33m\u001b[0m\u001b[1;33m\u001b[0m\u001b[0m\n\u001b[0;32m     47\u001b[0m     \u001b[0mclose_price\u001b[0m \u001b[1;33m=\u001b[0m \u001b[0mrow\u001b[0m\u001b[1;33m[\u001b[0m\u001b[1;34m\"Close\"\u001b[0m\u001b[1;33m]\u001b[0m\u001b[1;33m\u001b[0m\u001b[1;33m\u001b[0m\u001b[0m\n\u001b[0;32m     48\u001b[0m \u001b[1;33m\u001b[0m\u001b[0m\n\u001b[0;32m     49\u001b[0m     \u001b[1;31m# Ensure rsi is a scalar value\u001b[0m\u001b[1;33m\u001b[0m\u001b[1;33m\u001b[0m\u001b[0m\n\u001b[1;32m---> 50\u001b[1;33m     \u001b[1;32mif\u001b[0m \u001b[0mpd\u001b[0m\u001b[1;33m.\u001b[0m\u001b[0misna\u001b[0m\u001b[1;33m(\u001b[0m\u001b[0mrsi\u001b[0m\u001b[1;33m)\u001b[0m\u001b[1;33m:\u001b[0m\u001b[1;33m\u001b[0m\u001b[1;33m\u001b[0m\u001b[0m\n\u001b[0m\u001b[0;32m     51\u001b[0m         \u001b[0mrsi\u001b[0m \u001b[1;33m=\u001b[0m \u001b[1;32mNone\u001b[0m\u001b[1;33m\u001b[0m\u001b[1;33m\u001b[0m\u001b[0m\n\u001b[0;32m     52\u001b[0m \u001b[1;33m\u001b[0m\u001b[0m\n\u001b[0;32m     53\u001b[0m     \u001b[1;31m# Adjust weightage dynamically\u001b[0m\u001b[1;33m\u001b[0m\u001b[1;33m\u001b[0m\u001b[0m\n",
      "\u001b[1;32mc:\\Users\\hrint\\Documents\\AKASH\\investment\\venv\\Lib\\site-packages\\pandas\\core\\generic.py\u001b[0m in \u001b[0;36m?\u001b[1;34m(self)\u001b[0m\n\u001b[0;32m   1575\u001b[0m     \u001b[1;33m@\u001b[0m\u001b[0mfinal\u001b[0m\u001b[1;33m\u001b[0m\u001b[1;33m\u001b[0m\u001b[0m\n\u001b[0;32m   1576\u001b[0m     \u001b[1;32mdef\u001b[0m \u001b[0m__nonzero__\u001b[0m\u001b[1;33m(\u001b[0m\u001b[0mself\u001b[0m\u001b[1;33m)\u001b[0m \u001b[1;33m->\u001b[0m \u001b[0mNoReturn\u001b[0m\u001b[1;33m:\u001b[0m\u001b[1;33m\u001b[0m\u001b[1;33m\u001b[0m\u001b[0m\n\u001b[1;32m-> 1577\u001b[1;33m         raise ValueError(\n\u001b[0m\u001b[0;32m   1578\u001b[0m             \u001b[1;33mf\"\u001b[0m\u001b[1;33mThe truth value of a \u001b[0m\u001b[1;33m{\u001b[0m\u001b[0mtype\u001b[0m\u001b[1;33m(\u001b[0m\u001b[0mself\u001b[0m\u001b[1;33m)\u001b[0m\u001b[1;33m.\u001b[0m\u001b[0m__name__\u001b[0m\u001b[1;33m}\u001b[0m\u001b[1;33m is ambiguous. \u001b[0m\u001b[1;33m\"\u001b[0m\u001b[1;33m\u001b[0m\u001b[1;33m\u001b[0m\u001b[0m\n\u001b[0;32m   1579\u001b[0m             \u001b[1;34m\"Use a.empty, a.bool(), a.item(), a.any() or a.all().\"\u001b[0m\u001b[1;33m\u001b[0m\u001b[1;33m\u001b[0m\u001b[0m\n\u001b[0;32m   1580\u001b[0m         \u001b[1;33m)\u001b[0m\u001b[1;33m\u001b[0m\u001b[1;33m\u001b[0m\u001b[0m\n",
      "\u001b[1;31mValueError\u001b[0m: The truth value of a Series is ambiguous. Use a.empty, a.bool(), a.item(), a.any() or a.all()."
     ]
    }
   ],
   "source": [
    "# Convert dates to Timestamps\n",
    "start_date = pd.Timestamp(start_date)\n",
    "end_date = pd.Timestamp(end_date)\n",
    "\n",
    "\n",
    "# Function to adjust weightage by RSI\n",
    "def adjust_weightage_by_rsi(weightage, rsi):\n",
    "    if rsi is None or pd.isna(rsi):\n",
    "        return weightage  # If RSI is missing, return the original weightage\n",
    "\n",
    "    if rsi > 90:\n",
    "        return weightage * 0.7  # Reduce by 30%\n",
    "    elif rsi > 80:\n",
    "        return weightage * 0.8  # Reduce by 20%\n",
    "    elif rsi > 70:\n",
    "        return weightage * 0.9  # Reduce by 10%\n",
    "    elif rsi < 10:\n",
    "        return weightage * 1.3  # Increase by 30%\n",
    "    elif rsi < 20:\n",
    "        return weightage * 1.2  # Increase by 20%\n",
    "    elif rsi < 30:\n",
    "        return weightage * 1.1  # Increase by 10%\n",
    "    return weightage  # No change if between 30 and 70\n",
    "\n",
    "\n",
    "# Results list\n",
    "results = []\n",
    "\n",
    "# Loop through each stock\n",
    "for stock in stocks:\n",
    "    ticker = stock[\"Ticker\"]\n",
    "    weightage = stock[\"Weightage\"]\n",
    "\n",
    "    # Download stock data\n",
    "    data = yf.download(ticker, start=start_date, end=end_date)\n",
    "    if data.empty:\n",
    "        print(f\"Data for {ticker} is not available. Skipping.\")\n",
    "        continue\n",
    "\n",
    "    # Calculate RSI\n",
    "    data[\"RSI\"] = ta.rsi(data[\"Adj Close\"], length=14)\n",
    "\n",
    "    # Loop through each row of data\n",
    "    # Loop through each row of data in filtered data\n",
    "for index, row in data.iterrows():\n",
    "    rsi = row[\"RSI\"]\n",
    "    close_price = row[\"Close\"]\n",
    "\n",
    "    # Ensure rsi is a scalar value\n",
    "    if pd.isna(rsi):\n",
    "        rsi = None\n",
    "\n",
    "    # Adjust weightage dynamically\n",
    "    adjusted_weightage = adjust_weightage_by_rsi(weightage, rsi)\n",
    "\n",
    "    # Calculate allocated investment and shares\n",
    "    allocated_investment = adjusted_weightage * total_investment\n",
    "    shares = allocated_investment // close_price if close_price > 0 else 0\n",
    "\n",
    "    # Append results\n",
    "    results.append(\n",
    "        {\n",
    "            \"Ticker\": ticker,\n",
    "            \"Date\": index.date(),\n",
    "            \"Weightage\": weightage,\n",
    "            \"Adjusted Weightage\": adjusted_weightage,\n",
    "            \"Allocated Investment\": allocated_investment,\n",
    "            \"Close Price\": close_price,\n",
    "            \"RSI\": rsi,\n",
    "            \"Shares\": shares,\n",
    "        }\n",
    "    )\n",
    "\n",
    "\n",
    "# Convert results to DataFrame\n",
    "summary = pd.DataFrame(results)\n",
    "\n",
    "# Reorder and display columns\n",
    "summary = summary[\n",
    "    [\n",
    "        \"Ticker\",\n",
    "        \"Date\",\n",
    "        \"Weightage\",\n",
    "        \"Adjusted Weightage\",\n",
    "        \"Allocated Investment\",\n",
    "        \"Close Price\",\n",
    "        \"RSI\",\n",
    "        \"Shares\",\n",
    "    ]\n",
    "]\n",
    "\n",
    "# Save the summary to CSV\n",
    "summary.to_csv(\"investment_summary.csv\", index=False)\n",
    "print(\"\\nSummary saved to 'investment_summary.csv'\")"
   ]
  }
 ],
 "metadata": {
  "kernelspec": {
   "display_name": "venv",
   "language": "python",
   "name": "python3"
  },
  "language_info": {
   "codemirror_mode": {
    "name": "ipython",
    "version": 3
   },
   "file_extension": ".py",
   "mimetype": "text/x-python",
   "name": "python",
   "nbconvert_exporter": "python",
   "pygments_lexer": "ipython3",
   "version": "3.12.4"
  }
 },
 "nbformat": 4,
 "nbformat_minor": 2
}
